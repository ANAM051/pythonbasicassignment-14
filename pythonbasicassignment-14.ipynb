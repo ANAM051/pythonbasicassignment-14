{
 "cells": [
  {
   "cell_type": "markdown",
   "id": "770f0280",
   "metadata": {},
   "source": [
    "1. What does RGBA stand for?\n",
    "2. From the Pillow module, how do you get the RGBA value of any images?\n",
    "3. What is a box tuple, and how does it work?\n",
    "4. Use your image and load in notebook then, How can you find out the width and height of an\n",
    "Image object?\n",
    "5. What method would you call to get Image object for a 100×100 image, excluding the lower-left\n",
    "quarter of it?\n",
    "6. After making changes to an Image object, how could you save it as an image file?\n",
    "7. What module contains Pillow’s shape-drawing code?\n",
    "8. Image objects do not have drawing methods. What kind of object does? How do you get this kind\n",
    "of object?"
   ]
  },
  {
   "cell_type": "markdown",
   "id": "c4723d96",
   "metadata": {},
   "source": [
    "1.R-Red\n",
    "  G-Green\n",
    "  B-Blue\n",
    "  A-Alpha"
   ]
  },
  {
   "cell_type": "markdown",
   "id": "95c03081",
   "metadata": {},
   "source": [
    "2. ImageColor.getcolor () function. "
   ]
  },
  {
   "cell_type": "markdown",
   "id": "0cd05adc",
   "metadata": {},
   "source": [
    "3.box tuple is a tuple of 4 values (x,y,width,height).x,y specify top left corner of the box width and height represent the dime\n",
    "sion of the box"
   ]
  },
  {
   "cell_type": "code",
   "execution_count": null,
   "id": "d3819bdf",
   "metadata": {},
   "outputs": [],
   "source": [
    "4\n",
    "from PIL import image\n",
    "img=Image.open('img.jpg')\n",
    "print(f\"width, height is: \"{width}{height})"
   ]
  },
  {
   "cell_type": "code",
   "execution_count": null,
   "id": "01241273",
   "metadata": {},
   "outputs": [],
   "source": [
    "5.\n",
    "from PIL import image\n",
    "pic=Image.open('pic.jpg')\n",
    "new_pic=pic.crop(0,100,100,50)"
   ]
  },
  {
   "cell_type": "code",
   "execution_count": null,
   "id": "83dfb756",
   "metadata": {},
   "outputs": [],
   "source": [
    "6\n",
    "from PIL import image\n",
    "pic=Image.open('pic.jpg')\n",
    "pic.save('image3.jpg')"
   ]
  },
  {
   "cell_type": "code",
   "execution_count": null,
   "id": "9737c86a",
   "metadata": {},
   "outputs": [],
   "source": [
    "7.ImageDraw"
   ]
  },
  {
   "cell_type": "markdown",
   "id": "db38e75c",
   "metadata": {},
   "source": [
    "8.ImageDraw objects have shape-drawing methods such as point(), line(), or rectangle().They are returned by passing the Image \n",
    "object to the ImageDraw.Draw() function."
   ]
  }
 ],
 "metadata": {
  "kernelspec": {
   "display_name": "Python 3 (ipykernel)",
   "language": "python",
   "name": "python3"
  },
  "language_info": {
   "codemirror_mode": {
    "name": "ipython",
    "version": 3
   },
   "file_extension": ".py",
   "mimetype": "text/x-python",
   "name": "python",
   "nbconvert_exporter": "python",
   "pygments_lexer": "ipython3",
   "version": "3.9.12"
  }
 },
 "nbformat": 4,
 "nbformat_minor": 5
}
